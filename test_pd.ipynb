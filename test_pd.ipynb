{
 "cells": [
  {
   "cell_type": "markdown",
   "metadata": {},
   "source": [
    "## To test pull distributions"
   ]
  },
  {
   "cell_type": "code",
   "execution_count": 18,
   "metadata": {},
   "outputs": [],
   "source": [
    "import matplotlib.pyplot as plt\n",
    "import numpy as np\n",
    "import astropy.units as u\n",
    "from astropy.coordinates import SkyCoord, Angle\n",
    "from gammapy.irf import EffectiveAreaTable2D, EnergyDispersion2D, EnergyDependentMultiGaussPSF, Background3D\n",
    "from gammapy.maps import WcsGeom, MapAxis, WcsNDMap\n",
    "from gammapy.spectrum.models import PowerLaw\n",
    "from gammapy.image.models import SkyGaussian\n",
    "from gammapy.cube import make_map_exposure_true_energy\n",
    "from gammapy.cube import SkyModel, MapFit, MapEvaluator\n"
   ]
  },
  {
   "cell_type": "code",
   "execution_count": 19,
   "metadata": {},
   "outputs": [],
   "source": [
    "def get_irfs():\n",
    "    filename = '$GAMMAPY_EXTRA/datasets/cta-1dc/caldb/data/cta//1dc/bcf/South_z20_50h/irf_file.fits'\n",
    "    psf = EnergyDependentMultiGaussPSF.read(filename, hdu='POINT SPREAD FUNCTION')\n",
    "    aeff = EffectiveAreaTable2D.read(filename, hdu='EFFECTIVE AREA')\n",
    "    edisp = EnergyDispersion2D.read(filename, hdu='ENERGY DISPERSION')\n",
    "    bkg = Background3D.read(filename, hdu='BACKGROUND')\n",
    "    return dict(psf=psf, aeff=aeff, edisp=edisp, bkg=bkg)\n"
   ]
  },
  {
   "cell_type": "code",
   "execution_count": 20,
   "metadata": {},
   "outputs": [],
   "source": [
    "\n",
    "def get_skymodel(amp):\n",
    "    spatial_model = SkyGaussian(\n",
    "        lon_0='0.2 deg',\n",
    "        lat_0='0.1 deg',\n",
    "        sigma='0.5 deg',\n",
    "    )\n",
    "\n",
    "    spectral_model = PowerLaw(\n",
    "        index=3,\n",
    "        amplitude=amp,\n",
    "        reference='1 TeV',\n",
    "    )\n",
    "\n",
    "    sky_model = SkyModel(\n",
    "        spatial_model=spatial_model,\n",
    "        spectral_model=spectral_model,\n",
    "    )\n",
    "    return sky_model\n"
   ]
  },
  {
   "cell_type": "code",
   "execution_count": 21,
   "metadata": {},
   "outputs": [],
   "source": [
    "def simulate(evaluator, model, n_sim):\n",
    "    npred = evaluator.compute_npred()\n",
    "    cmap = []\n",
    "    npred_map = WcsNDMap(geom, npred)\n",
    "    for i in range(n_sim):\n",
    "        rng = np.random.RandomState()\n",
    "        counts = rng.poisson(npred)\n",
    "        counts_map = WcsNDMap(geom, counts)\n",
    "        cmap.append(counts_map)\n",
    "    return cmap\n"
   ]
  },
  {
   "cell_type": "code",
   "execution_count": 57,
   "metadata": {},
   "outputs": [],
   "source": [
    "def fit(cmap, exposure, model, true_model, n_sim):\n",
    "    ind, ind_e, lon, lon_e = [], [], [], []\n",
    "    \n",
    "    for i in range(n_sim):\n",
    "        \n",
    "        fit = MapFit(\n",
    "            model=model.copy(),\n",
    "            counts=cmap[i],\n",
    "            exposure=exposure,\n",
    "        )\n",
    "\n",
    "        fit.fit(opts_minuit={'print_level': 0})\n",
    "        ind.append(fit.model.parameters['index'].value)\n",
    "        ind_e.append(fit.minuit.errors['index'])\n",
    "        lon.append(fit.model.parameters['lon_0'].value)\n",
    "        lon_e.append(fit.minuit.errors['lon_0'])\n",
    "    \n",
    "    pull_ind = [ind - true_model.parameters['index'].value for ind in ind]\n",
    "    pull_ind = np.array(pull_ind)\n",
    "    ind_e = np.array(ind_e)\n",
    "    pull_ind = np.divide(pull_ind,ind_e)\n",
    "\n",
    "    \n",
    "    pull_lon = [lon - true_model.parameters['lon_0'].value for lon in lon]\n",
    "    pull_lon = np.array(pull_lon)\n",
    "    lon_e = np.array(lon_e)\n",
    "    pull_lon = np.divide(pull_lon,lon_e)\n",
    "    \n",
    "    index = {\"mean\": np.mean(ind),\n",
    "             \"err\": np.mean(ind_e),\n",
    "             \"pull_mean\": np.mean(pull_ind),\n",
    "             \"pull_std\": np.std(pull_ind)}\n",
    "    long = {\"mean\": np.mean(lon),\n",
    "             \"err\": np.mean(lon_e),\n",
    "             \"pull_mean\": np.mean(pull_lon),\n",
    "             \"pull_std\": np.std(pull_lon)}\n",
    "\n",
    "    return index,long"
   ]
  },
  {
   "cell_type": "code",
   "execution_count": 58,
   "metadata": {},
   "outputs": [],
   "source": [
    "irfs = get_irfs()\n",
    "# Define map geometry\n",
    "axis = MapAxis.from_edges(\n",
    "    np.logspace(-1., 1., 10), unit='TeV', name='energy'\n",
    ")\n",
    "geom = WcsGeom.create(\n",
    "    skydir=(0, 0), binsz=0.02, width=(9, 5),\n",
    "    coordsys='GAL', axes=[axis],\n",
    ")\n",
    "\n",
    "#Observation parameters\n",
    "pointing = SkyCoord(1, 0.5, unit='deg', frame='galactic')\n",
    "livetime = 1 * u.hour\n",
    "offset_max = 3 * u.deg\n",
    "offset = Angle('2 deg')\n",
    "amp = u.Quantity('1e-6 cm-2 s-1 TeV-1')\n",
    "\n",
    "# Exposure map:\n",
    "exposure = make_map_exposure_true_energy(\n",
    "    pointing=pointing, livetime=livetime, aeff=irfs['aeff'],\n",
    "    ref_geom=geom, offset_max=offset_max)\n"
   ]
  },
  {
   "cell_type": "code",
   "execution_count": 59,
   "metadata": {},
   "outputs": [
    {
     "name": "stdout",
     "output_type": "stream",
     "text": [
      "Running for amplitude  1e-06 1 / (cm2 s TeV)\n",
      "Running for amplitude  1e-07 1 / (cm2 s TeV)\n",
      "Running for amplitude  1e-08 1 / (cm2 s TeV)\n",
      "Running for amplitude  1e-09 1 / (cm2 s TeV)\n",
      "Running for amplitude  1e-10 1 / (cm2 s TeV)\n",
      "Running for amplitude  1.0000000000000001e-11 1 / (cm2 s TeV)\n",
      "Running for amplitude  1.0000000000000002e-12 1 / (cm2 s TeV)\n"
     ]
    }
   ],
   "source": [
    "index, long, amp_arr = [], [], []\n",
    "for i in range(7):\n",
    "    print(\"Running for amplitude \",amp)\n",
    "    sky_model = get_skymodel(amp)\n",
    "    evaluator = MapEvaluator(sky_model, exposure)   \n",
    "    cmap = simulate(evaluator, sky_model, 100)\n",
    "    model = get_skymodel(amp)\n",
    "    amp_err = amp/10.0\n",
    "\n",
    "    model.parameters.set_parameter_errors({\n",
    "        'lon_0': '0.1 deg',\n",
    "        'lat_0': '0.1 deg',\n",
    "        'sigma': '0.1 deg',\n",
    "        'index': '0.1',\n",
    "        'amplitude': amp_err,\n",
    "    })\n",
    "\n",
    "    model.parameters['sigma'].min = 0\n",
    "    model.parameters['sigma'].frozen = True\n",
    "    model.parameters['lat_0'].frozen = True\n",
    "    model.parameters['amplitude'].frozen = True\n",
    "    \n",
    "    ind, lon = fit(cmap, exposure, model, sky_model, 100)\n",
    "    index.append(ind)\n",
    "    long.append(lon)\n",
    "    amp_arr.append(amp)\n",
    "    amp = amp/10.0\n"
   ]
  },
  {
   "cell_type": "code",
   "execution_count": null,
   "metadata": {},
   "outputs": [],
   "source": [
    "amp_arr = [amp_arr[i].value for i in range(7)]"
   ]
  },
  {
   "cell_type": "code",
   "execution_count": 63,
   "metadata": {},
   "outputs": [],
   "source": [
    "ind_pull_mean = [index[i][\"pull_mean\"] for i in range(7)]\n",
    "ind_pull_std = [index[i][\"pull_std\"] for i in range(7)]\n",
    "ind_mean = [index[i][\"mean\"] for i in range(7)]"
   ]
  },
  {
   "cell_type": "code",
   "execution_count": 64,
   "metadata": {},
   "outputs": [],
   "source": [
    "lon_pull_mean = [long[i][\"pull_mean\"] for i in range(7)]\n",
    "lon_pull_std = [long[i][\"pull_std\"] for i in range(7)]\n",
    "lon_mean = [long[i][\"mean\"] for i in range(7)]"
   ]
  },
  {
   "cell_type": "code",
   "execution_count": 97,
   "metadata": {},
   "outputs": [
    {
     "data": {
      "image/png": "[encoded data removed]",
      "text/plain": [
       "<matplotlib.figure.Figure at 0x1f60c8fbe0>"
      ]
     },
     "metadata": {},
     "output_type": "display_data"
    }
   ],
   "source": [
    "fig = plt.figure(figsize=(12,5))\n",
    "ax1=fig.add_subplot(121)\n",
    "ax1.plot(amp_arr, ind_pull_mean)\n",
    "ax1.set_xlabel(\"Flux Amplitude\")\n",
    "ax1.set_ylabel(\"Pull_mean\")\n",
    "ax1.set_xscale(\"log\")\n",
    "\n",
    "ax2=fig.add_subplot(122)\n",
    "ax2.plot(amp_arr, ind_pull_std)\n",
    "ax2.set_xlabel(\"Flux Amplitude\")\n",
    "ax2.set_ylabel(\"Pull_std\")\n",
    "ax2.set_xscale(\"log\")\n",
    "\n"
   ]
  }
 ],
 "metadata": {
  "kernelspec": {
   "display_name": "Python 3",
   "language": "python",
   "name": "python3"
  },
  "language_info": {
   "codemirror_mode": {
    "name": "ipython",
    "version": 3
   },
   "file_extension": ".py",
   "mimetype": "text/x-python",
   "name": "python",
   "nbconvert_exporter": "python",
   "pygments_lexer": "ipython3",
   "version": "3.6.4"
  }
 },
 "nbformat": 4,
 "nbformat_minor": 2
}
